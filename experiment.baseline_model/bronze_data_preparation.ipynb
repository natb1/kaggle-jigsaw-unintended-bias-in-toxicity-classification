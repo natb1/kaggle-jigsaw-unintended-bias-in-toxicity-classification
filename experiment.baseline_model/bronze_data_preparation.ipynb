{
 "cells": [
  {
   "cell_type": "code",
   "execution_count": 3,
   "metadata": {},
   "outputs": [],
   "source": [
    "%run jupyter/notebook_modules.ipynb"
   ]
  },
  {
   "cell_type": "code",
   "execution_count": 10,
   "metadata": {},
   "outputs": [],
   "source": [
    "import ops.kaggle_dependencies"
   ]
  },
  {
   "cell_type": "code",
   "execution_count": 15,
   "metadata": {},
   "outputs": [],
   "source": [
    "import os\n",
    "\n",
    "import kaggle\n",
    "from google.cloud import bigquery\n",
    "\n",
    "import bq\n",
    "from competition import THIS_COMPETITION"
   ]
  },
  {
   "cell_type": "code",
   "execution_count": 12,
   "metadata": {},
   "outputs": [],
   "source": [
    "TMP_LOCATION = \"/tmp\""
   ]
  },
  {
   "cell_type": "code",
   "execution_count": 36,
   "metadata": {},
   "outputs": [],
   "source": [
    "job_config = bigquery.LoadJobConfig(\n",
    "    source_format=bigquery.SourceFormat.CSV,\n",
    "    skip_leading_rows=1,\n",
    "    autodetect=True,\n",
    "    write_disposition=bigquery.job.WriteDisposition.WRITE_TRUNCATE\n",
    ")"
   ]
  },
  {
   "cell_type": "code",
   "execution_count": null,
   "metadata": {},
   "outputs": [],
   "source": [
    "def upload(source_filename, table_ref):\n",
    "    with open(source_filename, 'rb') as source_file:\n",
    "        job = bq.client.load_table_from_file(\n",
    "            source_file,\n",
    "            table_ref,\n",
    "            location='US',\n",
    "            job_config=job_config)\n",
    "        return job"
   ]
  },
  {
   "cell_type": "code",
   "execution_count": 35,
   "metadata": {},
   "outputs": [],
   "source": [
    "def initialize(truncate=False):\n",
    "    dataset = bq.client.create_dataset(bq.dataset_id, exists_ok=True)\n",
    "    files_tables = ((str(f), os.path.splitext(str(f))[0])\n",
    "                    for f in kaggle.api.competition_list_files(THIS_COMPETITION))\n",
    "    if not truncate:\n",
    "        existing_tables = set(t.table_id for t in bq.client.list_tables(dataset))\n",
    "        files_tables = ((f, table)\n",
    "                        for f, table in files_tables\n",
    "                        if table not in existing_tables)\n",
    "    # synchonously upload competition files\n",
    "    for f, table in files_tables:\n",
    "        kaggle.api.competition_download_file(THIS_COMPETITION, f, TMP_LOCATION)\n",
    "        path = os.path.join(TMP_LOCATION, f)\n",
    "        z = \"{path}.zip\".format(path=path)\n",
    "        !unzip -u $z\n",
    "        !chmod +r $f\n",
    "        os.remove(z)\n",
    "        table_ref = dataset.table(table)\n",
    "        job = upload(f, table_ref)\n",
    "        job.result() # wait for completion (make uploads synchronous)\n",
    "        os.remove(f)"
   ]
  }
 ],
 "metadata": {
  "kernelspec": {
   "display_name": "Python 3",
   "language": "python",
   "name": "python3"
  },
  "language_info": {
   "codemirror_mode": {
    "name": "ipython",
    "version": 3
   },
   "file_extension": ".py",
   "mimetype": "text/x-python",
   "name": "python",
   "nbconvert_exporter": "python",
   "pygments_lexer": "ipython3",
   "version": "3.5.3"
  }
 },
 "nbformat": 4,
 "nbformat_minor": 2
}
