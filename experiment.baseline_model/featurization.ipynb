{
 "cells": [
  {
   "cell_type": "code",
   "execution_count": 7,
   "metadata": {},
   "outputs": [],
   "source": [
    "%run ../jupyter/notebook_modules.ipynb"
   ]
  },
  {
   "cell_type": "code",
   "execution_count": 1,
   "metadata": {},
   "outputs": [],
   "source": [
    "from google.cloud import language\n",
    "from google.cloud.language import enums\n",
    "from google.cloud.language import types"
   ]
  },
  {
   "cell_type": "code",
   "execution_count": 2,
   "metadata": {},
   "outputs": [],
   "source": [
    "client = language.LanguageServiceClient()"
   ]
  },
  {
   "cell_type": "code",
   "execution_count": 3,
   "metadata": {},
   "outputs": [],
   "source": [
    "text = u'Hello, world!'\n",
    "document = types.Document(\n",
    "    content=text,\n",
    "    type=enums.Document.Type.PLAIN_TEXT)"
   ]
  },
  {
   "cell_type": "code",
   "execution_count": 18,
   "metadata": {},
   "outputs": [],
   "source": [
    "f = types.AnnotateTextRequest.Features()\n",
    "f.extract_syntax = True"
   ]
  },
  {
   "cell_type": "code",
   "execution_count": 19,
   "metadata": {},
   "outputs": [],
   "source": [
    "text = client.annotate_text(document=document, features=f)"
   ]
  },
  {
   "cell_type": "code",
   "execution_count": 24,
   "metadata": {},
   "outputs": [
    {
     "data": {
      "text/plain": [
       "[text {\n",
       "  content: \"Hello\"\n",
       "  begin_offset: -1\n",
       "}\n",
       "part_of_speech {\n",
       "  tag: X\n",
       "}\n",
       "dependency_edge {\n",
       "  head_token_index: 2\n",
       "  label: DISCOURSE\n",
       "}\n",
       "lemma: \"Hello\"\n",
       ", text {\n",
       "  content: \",\"\n",
       "  begin_offset: -1\n",
       "}\n",
       "part_of_speech {\n",
       "  tag: PUNCT\n",
       "}\n",
       "dependency_edge {\n",
       "  head_token_index: 2\n",
       "  label: P\n",
       "}\n",
       "lemma: \",\"\n",
       ", text {\n",
       "  content: \"world\"\n",
       "  begin_offset: -1\n",
       "}\n",
       "part_of_speech {\n",
       "  tag: NOUN\n",
       "  number: SINGULAR\n",
       "}\n",
       "dependency_edge {\n",
       "  head_token_index: 2\n",
       "  label: ROOT\n",
       "}\n",
       "lemma: \"world\"\n",
       ", text {\n",
       "  content: \"!\"\n",
       "  begin_offset: -1\n",
       "}\n",
       "part_of_speech {\n",
       "  tag: PUNCT\n",
       "}\n",
       "dependency_edge {\n",
       "  head_token_index: 2\n",
       "  label: P\n",
       "}\n",
       "lemma: \"!\"\n",
       "]"
      ]
     },
     "execution_count": 24,
     "metadata": {},
     "output_type": "execute_result"
    }
   ],
   "source": [
    "text.tokens"
   ]
  },
  {
   "cell_type": "markdown",
   "metadata": {},
   "source": [
    "^ cool, but too expensive for experimentation"
   ]
  },
  {
   "cell_type": "code",
   "execution_count": 2,
   "metadata": {},
   "outputs": [
    {
     "name": "stdout",
     "output_type": "stream",
     "text": [
      "Collecting spacy\n",
      "  Downloading https://files.pythonhosted.org/packages/da/87/c47c183cd4832d12b0cbd5fb381080c5189a9d25f9eb1d4502842b5da050/spacy-2.1.4-cp35-cp35m-manylinux1_x86_64.whl (29.7MB)\n",
      "\u001b[K    100% |████████████████████████████████| 29.7MB 45kB/s \n",
      "\u001b[?25hCollecting cymem<2.1.0,>=2.0.2 (from spacy)\n",
      "  Downloading https://files.pythonhosted.org/packages/6b/d5/c1583c90023608e71ee35b6943d2a5dc488d463b84ecd1c0fddbf23eed44/cymem-2.0.2-cp35-cp35m-manylinux1_x86_64.whl\n",
      "Collecting preshed<2.1.0,>=2.0.1 (from spacy)\n",
      "  Downloading https://files.pythonhosted.org/packages/c5/e5/705d59b08fa3e5ba33d2371f6d52c1993539d5b3beb4130c40bb4e540706/preshed-2.0.1-cp35-cp35m-manylinux1_x86_64.whl (82kB)\n",
      "\u001b[K    100% |████████████████████████████████| 92kB 5.0MB/s \n",
      "\u001b[?25hRequirement already satisfied: requests<3.0.0,>=2.13.0 in /usr/local/lib/python3.5/dist-packages (from spacy)\n",
      "Collecting blis<0.3.0,>=0.2.2 (from spacy)\n",
      "  Downloading https://files.pythonhosted.org/packages/f9/78/ce96dfd9daee07023e2d47bbfd98e13a0e753f92a9bd8bc36fb47ddf9bbd/blis-0.2.4-cp35-cp35m-manylinux1_x86_64.whl (3.2MB)\n",
      "\u001b[K    100% |████████████████████████████████| 3.2MB 365kB/s \n",
      "\u001b[?25hCollecting wasabi<1.1.0,>=0.2.0 (from spacy)\n",
      "  Downloading https://files.pythonhosted.org/packages/f4/c1/d76ccdd12c716be79162d934fe7de4ac8a318b9302864716dde940641a79/wasabi-0.2.2-py3-none-any.whl\n",
      "Collecting murmurhash<1.1.0,>=0.28.0 (from spacy)\n",
      "  Downloading https://files.pythonhosted.org/packages/4a/70/adae6a228f088ccc160696a564382a6e9afe343b9bc1c8e104574122167b/murmurhash-1.0.2-cp35-cp35m-manylinux1_x86_64.whl\n",
      "Requirement already satisfied: numpy>=1.15.0 in /usr/local/lib/python3.5/site-packages (from spacy)\n",
      "Requirement already satisfied: jsonschema<3.1.0,>=2.6.0 in /usr/local/lib/python3.5/dist-packages (from spacy)\n",
      "Collecting plac<1.0.0,>=0.9.6 (from spacy)\n",
      "  Using cached https://files.pythonhosted.org/packages/9e/9b/62c60d2f5bc135d2aa1d8c8a86aaf84edb719a59c7f11a4316259e61a298/plac-0.9.6-py2.py3-none-any.whl\n",
      "Collecting srsly<1.1.0,>=0.0.5 (from spacy)\n",
      "  Downloading https://files.pythonhosted.org/packages/be/8d/cef914768d64ab41ab4900ad2f82faeb842d3da4de50400437bca941fe24/srsly-0.0.5-cp35-cp35m-manylinux1_x86_64.whl (178kB)\n",
      "\u001b[K    100% |████████████████████████████████| 184kB 6.8MB/s \n",
      "\u001b[?25hCollecting thinc<7.1.0,>=7.0.2 (from spacy)\n",
      "  Downloading https://files.pythonhosted.org/packages/d5/9d/a946abae02356df1f21af70d65e5607c7ef119ae7d70cb896fe249179652/thinc-7.0.4-cp35-cp35m-manylinux1_x86_64.whl (2.1MB)\n",
      "\u001b[K    100% |████████████████████████████████| 2.1MB 664kB/s \n",
      "\u001b[?25hRequirement already satisfied: idna<2.9,>=2.5 in /usr/local/lib/python3.5/dist-packages (from requests<3.0.0,>=2.13.0->spacy)\n",
      "Requirement already satisfied: certifi>=2017.4.17 in /usr/local/lib/python3.5/dist-packages (from requests<3.0.0,>=2.13.0->spacy)\n",
      "Requirement already satisfied: urllib3<1.25,>=1.21.1 in /usr/local/lib/python3.5/dist-packages (from requests<3.0.0,>=2.13.0->spacy)\n",
      "Requirement already satisfied: chardet<3.1.0,>=3.0.2 in /usr/local/lib/python3.5/dist-packages (from requests<3.0.0,>=2.13.0->spacy)\n",
      "Requirement already satisfied: mkl-random in /usr/local/lib/python3.5/dist-packages (from numpy>=1.15.0->spacy)\n",
      "Requirement already satisfied: icc-rt in /usr/local/lib/python3.5/dist-packages (from numpy>=1.15.0->spacy)\n",
      "Requirement already satisfied: tbb4py in /usr/local/lib/python3.5/dist-packages (from numpy>=1.15.0->spacy)\n",
      "Requirement already satisfied: mkl-fft in /usr/local/lib/python3.5/dist-packages (from numpy>=1.15.0->spacy)\n",
      "Requirement already satisfied: mkl in /usr/local/lib/python3.5/dist-packages (from numpy>=1.15.0->spacy)\n",
      "Requirement already satisfied: six>=1.11.0 in /usr/local/lib/python3.5/dist-packages (from jsonschema<3.1.0,>=2.6.0->spacy)\n",
      "Requirement already satisfied: attrs>=17.4.0 in /usr/local/lib/python3.5/dist-packages (from jsonschema<3.1.0,>=2.6.0->spacy)\n",
      "Requirement already satisfied: setuptools in /usr/local/lib/python3.5/dist-packages (from jsonschema<3.1.0,>=2.6.0->spacy)\n",
      "Requirement already satisfied: pyrsistent>=0.14.0 in /usr/local/lib/python3.5/dist-packages (from jsonschema<3.1.0,>=2.6.0->spacy)\n",
      "Requirement already satisfied: tqdm<5.0.0,>=4.10.0 in /usr/local/lib/python3.5/dist-packages (from thinc<7.1.0,>=7.0.2->spacy)\n",
      "Requirement already satisfied: intel-numpy in /usr/local/lib/python3.5/dist-packages (from mkl-random->numpy>=1.15.0->spacy)\n",
      "Requirement already satisfied: intel-openmp in /usr/local/lib/python3.5/dist-packages (from icc-rt->numpy>=1.15.0->spacy)\n",
      "Requirement already satisfied: tbb==2019.* in /usr/local/lib/python3.5/dist-packages (from tbb4py->numpy>=1.15.0->spacy)\n",
      "Installing collected packages: cymem, preshed, blis, wasabi, murmurhash, plac, srsly, thinc, spacy\n",
      "Successfully installed blis-0.2.4 cymem-2.0.2 murmurhash-1.0.2 plac-0.9.6 preshed-2.0.1 spacy-2.1.4 srsly-0.0.5 thinc-7.0.4 wasabi-0.2.2\n",
      "Note: you may need to restart the kernel to use updated packages.\n"
     ]
    }
   ],
   "source": [
    "%pip install spacy"
   ]
  },
  {
   "cell_type": "code",
   "execution_count": 38,
   "metadata": {},
   "outputs": [
    {
     "name": "stdout",
     "output_type": "stream",
     "text": [
      "Collecting https://github.com/explosion/spacy-models/releases/download/en_core_web_md-2.1.0/en_core_web_md-2.1.0.tar.gz\n",
      "  Downloading https://github.com/explosion/spacy-models/releases/download/en_core_web_md-2.1.0/en_core_web_md-2.1.0.tar.gz (95.4MB)\n",
      "\u001b[K    100% |████████████████████████████████| 95.4MB 13kB/s \n",
      "\u001b[?25hRequirement already satisfied: spacy>=2.1.0 in /home/jupyter/.local/lib/python3.5/site-packages (from en-core-web-md==2.1.0)\n",
      "Requirement already satisfied: blis<0.3.0,>=0.2.2 in /home/jupyter/.local/lib/python3.5/site-packages (from spacy>=2.1.0->en-core-web-md==2.1.0)\n",
      "Requirement already satisfied: preshed<2.1.0,>=2.0.1 in /home/jupyter/.local/lib/python3.5/site-packages (from spacy>=2.1.0->en-core-web-md==2.1.0)\n",
      "Requirement already satisfied: jsonschema<3.1.0,>=2.6.0 in /usr/local/lib/python3.5/dist-packages (from spacy>=2.1.0->en-core-web-md==2.1.0)\n",
      "Requirement already satisfied: wasabi<1.1.0,>=0.2.0 in /home/jupyter/.local/lib/python3.5/site-packages (from spacy>=2.1.0->en-core-web-md==2.1.0)\n",
      "Requirement already satisfied: srsly<1.1.0,>=0.0.5 in /home/jupyter/.local/lib/python3.5/site-packages (from spacy>=2.1.0->en-core-web-md==2.1.0)\n",
      "Requirement already satisfied: requests<3.0.0,>=2.13.0 in /usr/local/lib/python3.5/dist-packages (from spacy>=2.1.0->en-core-web-md==2.1.0)\n",
      "Requirement already satisfied: numpy>=1.15.0 in /usr/local/lib/python3.5/site-packages (from spacy>=2.1.0->en-core-web-md==2.1.0)\n",
      "Requirement already satisfied: murmurhash<1.1.0,>=0.28.0 in /home/jupyter/.local/lib/python3.5/site-packages (from spacy>=2.1.0->en-core-web-md==2.1.0)\n",
      "Requirement already satisfied: plac<1.0.0,>=0.9.6 in /home/jupyter/.local/lib/python3.5/site-packages (from spacy>=2.1.0->en-core-web-md==2.1.0)\n",
      "Requirement already satisfied: cymem<2.1.0,>=2.0.2 in /home/jupyter/.local/lib/python3.5/site-packages (from spacy>=2.1.0->en-core-web-md==2.1.0)\n",
      "Requirement already satisfied: thinc<7.1.0,>=7.0.2 in /home/jupyter/.local/lib/python3.5/site-packages (from spacy>=2.1.0->en-core-web-md==2.1.0)\n",
      "Requirement already satisfied: attrs>=17.4.0 in /usr/local/lib/python3.5/dist-packages (from jsonschema<3.1.0,>=2.6.0->spacy>=2.1.0->en-core-web-md==2.1.0)\n",
      "Requirement already satisfied: six>=1.11.0 in /usr/local/lib/python3.5/dist-packages (from jsonschema<3.1.0,>=2.6.0->spacy>=2.1.0->en-core-web-md==2.1.0)\n",
      "Requirement already satisfied: pyrsistent>=0.14.0 in /usr/local/lib/python3.5/dist-packages (from jsonschema<3.1.0,>=2.6.0->spacy>=2.1.0->en-core-web-md==2.1.0)\n",
      "Requirement already satisfied: setuptools in /usr/local/lib/python3.5/dist-packages (from jsonschema<3.1.0,>=2.6.0->spacy>=2.1.0->en-core-web-md==2.1.0)\n",
      "Requirement already satisfied: certifi>=2017.4.17 in /usr/local/lib/python3.5/dist-packages (from requests<3.0.0,>=2.13.0->spacy>=2.1.0->en-core-web-md==2.1.0)\n",
      "Requirement already satisfied: chardet<3.1.0,>=3.0.2 in /usr/local/lib/python3.5/dist-packages (from requests<3.0.0,>=2.13.0->spacy>=2.1.0->en-core-web-md==2.1.0)\n",
      "Requirement already satisfied: idna<2.9,>=2.5 in /usr/local/lib/python3.5/dist-packages (from requests<3.0.0,>=2.13.0->spacy>=2.1.0->en-core-web-md==2.1.0)\n",
      "Requirement already satisfied: urllib3<1.25,>=1.21.1 in /usr/local/lib/python3.5/dist-packages (from requests<3.0.0,>=2.13.0->spacy>=2.1.0->en-core-web-md==2.1.0)\n",
      "Requirement already satisfied: mkl-fft in /usr/local/lib/python3.5/dist-packages (from numpy>=1.15.0->spacy>=2.1.0->en-core-web-md==2.1.0)\n",
      "Requirement already satisfied: tbb4py in /usr/local/lib/python3.5/dist-packages (from numpy>=1.15.0->spacy>=2.1.0->en-core-web-md==2.1.0)\n",
      "Requirement already satisfied: mkl in /usr/local/lib/python3.5/dist-packages (from numpy>=1.15.0->spacy>=2.1.0->en-core-web-md==2.1.0)\n",
      "Requirement already satisfied: mkl-random in /usr/local/lib/python3.5/dist-packages (from numpy>=1.15.0->spacy>=2.1.0->en-core-web-md==2.1.0)\n",
      "Requirement already satisfied: icc-rt in /usr/local/lib/python3.5/dist-packages (from numpy>=1.15.0->spacy>=2.1.0->en-core-web-md==2.1.0)\n",
      "Requirement already satisfied: tqdm<5.0.0,>=4.10.0 in /usr/local/lib/python3.5/dist-packages (from thinc<7.1.0,>=7.0.2->spacy>=2.1.0->en-core-web-md==2.1.0)\n",
      "Requirement already satisfied: intel-numpy in /usr/local/lib/python3.5/dist-packages (from mkl-fft->numpy>=1.15.0->spacy>=2.1.0->en-core-web-md==2.1.0)\n",
      "Requirement already satisfied: tbb==2019.* in /usr/local/lib/python3.5/dist-packages (from tbb4py->numpy>=1.15.0->spacy>=2.1.0->en-core-web-md==2.1.0)\n",
      "Requirement already satisfied: intel-openmp in /usr/local/lib/python3.5/dist-packages (from mkl->numpy>=1.15.0->spacy>=2.1.0->en-core-web-md==2.1.0)\n",
      "Building wheels for collected packages: en-core-web-md\n",
      "  Running setup.py bdist_wheel for en-core-web-md ... \u001b[?25ldone\n",
      "\u001b[?25h  Stored in directory: /home/jupyter/.cache/pip/wheels/c1/2c/5f/fd7f3ec336bf97b0809c86264d2831c5dfb00fc2e239d1bb01\n",
      "Successfully built en-core-web-md\n",
      "Installing collected packages: en-core-web-md\n",
      "Successfully installed en-core-web-md-2.1.0\n",
      "Note: you may need to restart the kernel to use updated packages.\n"
     ]
    }
   ],
   "source": [
    "%pip install https://github.com/explosion/spacy-models/releases/download/en_core_web_md-2.1.0/en_core_web_md-2.1.0.tar.gz\n"
   ]
  },
  {
   "cell_type": "code",
   "execution_count": 1,
   "metadata": {},
   "outputs": [],
   "source": [
    "import spacy"
   ]
  },
  {
   "cell_type": "code",
   "execution_count": 2,
   "metadata": {},
   "outputs": [],
   "source": [
    "nlp = spacy.load(\"en_core_web_sm\")"
   ]
  },
  {
   "cell_type": "code",
   "execution_count": 2,
   "metadata": {},
   "outputs": [
    {
     "name": "stderr",
     "output_type": "stream",
     "text": [
      "UsageError: Line magic function `%pip` not found.\n"
     ]
    }
   ],
   "source": [
    "%pip install apache_beam[gcp]"
   ]
  },
  {
   "cell_type": "code",
   "execution_count": 2,
   "metadata": {},
   "outputs": [
    {
     "name": "stderr",
     "output_type": "stream",
     "text": [
      "/home/jupyter/.local/lib/python3.5/site-packages/apache_beam/__init__.py:84: UserWarning: Running the Apache Beam SDK on Python 3 is not yet fully supported. You may encounter buggy behavior or missing features.\n",
      "  'Running the Apache Beam SDK on Python 3 is not yet fully supported. '\n"
     ]
    }
   ],
   "source": [
    "import apache_beam as beam\n",
    "from apache_beam.runners.interactive import interactive_runner\n",
    "from apache_beam.runners.portability import portable_runner\n",
    "from apache_beam.options import pipeline_options\n",
    "from apache_beam.options.pipeline_options import PipelineOptions, GoogleCloudOptions, StandardOptions"
   ]
  },
  {
   "cell_type": "code",
   "execution_count": 2,
   "metadata": {},
   "outputs": [],
   "source": [
    "options = PipelineOptions()\n",
    "google_cloud_options = options.view_as(GoogleCloudOptions)\n",
    "google_cloud_options.project = 'resonant-goods-241314'\n",
    "google_cloud_options.job_name = 'spacy'\n",
    "google_cloud_options.staging_location = 'gs://resonant-goods-241314/staging'\n",
    "google_cloud_options.temp_location = 'gs://resonant-goods-241314/temp'\n",
    "options.view_as(StandardOptions).runner = 'DataflowRunner'"
   ]
  },
  {
   "cell_type": "code",
   "execution_count": 3,
   "metadata": {},
   "outputs": [],
   "source": [
    "options = PipelineOptions()\n",
    "options.view_as(StandardOptions).runner = 'DirectRunner'\n",
    "google_cloud_options = options.view_as(GoogleCloudOptions)\n",
    "google_cloud_options.project = 'resonant-goods-241314'"
   ]
  },
  {
   "cell_type": "code",
   "execution_count": 3,
   "metadata": {},
   "outputs": [],
   "source": [
    "p = beam.Pipeline(options=options)"
   ]
  },
  {
   "cell_type": "code",
   "execution_count": 4,
   "metadata": {},
   "outputs": [
    {
     "data": {
      "text/plain": [
       "<PCollection[WriteToText/Write/WriteImpl/FinalizeWrite.None] at 0x7fee84a9cbe0>"
      ]
     },
     "execution_count": 4,
     "metadata": {},
     "output_type": "execute_result"
    }
   ],
   "source": [
    "(p \n",
    " | beam.io.ReadFromText('gs://dataflow-samples/shakespeare/kinglear.txt')\n",
    " | 'ExtractWords' >> beam.FlatMap(lambda x: re.findall(r'[A-Za-z\\']+', x)) \n",
    " | beam.combiners.Count.PerElement()\n",
    " | beam.Map(lambda word_count: '%s: %s' % (word_count[0], word_count[1]))\n",
    " | beam.io.WriteToText('gs://resonant-goods-241314/counts.txt')\n",
    ")\n"
   ]
  },
  {
   "cell_type": "code",
   "execution_count": 5,
   "metadata": {},
   "outputs": [
    {
     "name": "stderr",
     "output_type": "stream",
     "text": [
      "WARNING:root:Discarding unparseable args: ['-f', '/home/jupyter/.local/share/jupyter/runtime/kernel-dd2961ac-8028-48ab-b8da-759d759b0b89.json']\n",
      "WARNING:root:Discarding unparseable args: ['-f', '/home/jupyter/.local/share/jupyter/runtime/kernel-dd2961ac-8028-48ab-b8da-759d759b0b89.json']\n"
     ]
    },
    {
     "data": {
      "text/plain": [
       "DONE"
      ]
     },
     "execution_count": 5,
     "metadata": {},
     "output_type": "execute_result"
    }
   ],
   "source": [
    "result = p.run()\n",
    "result.wait_until_finish()"
   ]
  },
  {
   "cell_type": "code",
   "execution_count": 8,
   "metadata": {},
   "outputs": [
    {
     "name": "stdout",
     "output_type": "stream",
     "text": [
      "importing Jupyter notebook from bq.ipynb\n",
      "importing Jupyter notebook from competition.ipynb\n"
     ]
    }
   ],
   "source": [
    "import bq"
   ]
  },
  {
   "cell_type": "code",
   "execution_count": 11,
   "metadata": {},
   "outputs": [],
   "source": [
    "read_spec = '{dataset_id}.train'.format(dataset_id=bq.dataset_id)\n",
    "write_spec = '{dataset_id}.train_target_on_tokens'.format(dataset_id=bq.dataset_id)"
   ]
  },
  {
   "cell_type": "code",
   "execution_count": 12,
   "metadata": {},
   "outputs": [],
   "source": [
    "table_schema = 'comment_text:STRING'"
   ]
  },
  {
   "cell_type": "code",
   "execution_count": 14,
   "metadata": {},
   "outputs": [],
   "source": [
    "p = beam.Pipeline(options=options)"
   ]
  },
  {
   "cell_type": "code",
   "execution_count": 15,
   "metadata": {},
   "outputs": [
    {
     "data": {
      "text/plain": [
       "<PDone[WriteToBigQuery/WriteToBigQuery/NativeWrite.None] at 0x7fee7fbe5128>"
      ]
     },
     "execution_count": 15,
     "metadata": {},
     "output_type": "execute_result"
    }
   ],
   "source": [
    "(\n",
    "    p\n",
    "    | 'ReadTable' >> beam.io.Read(beam.io.BigQuerySource(read_spec))\n",
    "    # Each row is a dictionary where the keys are the BigQuery columns\n",
    "    | beam.Map(lambda elem: elem['comment_text'])\n",
    "    | beam.io.WriteToBigQuery(\n",
    "        write_spec,\n",
    "        schema=table_schema,\n",
    "        write_disposition=beam.io.BigQueryDisposition.WRITE_TRUNCATE,\n",
    "        create_disposition=beam.io.BigQueryDisposition.CREATE_IF_NEEDED)\n",
    ")"
   ]
  },
  {
   "cell_type": "code",
   "execution_count": null,
   "metadata": {},
   "outputs": [],
   "source": [
    "import spacy\n",
    "nlp = spacy.load('en_core_web_md')"
   ]
  },
  {
   "cell_type": "code",
   "execution_count": 5,
   "metadata": {},
   "outputs": [
    {
     "name": "stderr",
     "output_type": "stream",
     "text": [
      "WARNING:root:Dataset resonant-goods-241314:temp_dataset_29f26649b5694c4fb4070a81f23143c0 does not exist so we will create it as temporary with location=US\n"
     ]
    },
    {
     "data": {
      "text/plain": [
       "DONE"
      ]
     },
     "execution_count": 5,
     "metadata": {},
     "output_type": "execute_result"
    }
   ],
   "source": [
    "documents = []\n",
    "def collect(document):\n",
    "    document['tokens'] = nlp(document['comment_text'])\n",
    "    documents.append(document)\n",
    "    return True\n",
    "\n",
    "p = beam.Pipeline(options=options)\n",
    "\n",
    "(\n",
    "    p\n",
    "    | 'ReadTable' >> beam.io.Read(beam.io.BigQuerySource(\n",
    "        query='SELECT comment_text, target FROM '\\\n",
    "              '[resonant-goods-241314:jigsaw_unintended_bias_in_toxicity_classification.train]'\\\n",
    "              'LIMIT 10'\n",
    "        ))\n",
    "    | \"collect\" >> beam.Map(collect)\n",
    "    #| beam.io.WriteToBigQuery(\n",
    "    #    write_spec,\n",
    "    #    schema=table_schema,\n",
    "    #    write_disposition=beam.io.BigQueryDisposition.WRITE_TRUNCATE,\n",
    "    #    create_disposition=beam.io.BigQueryDisposition.CREATE_IF_NEEDED)\n",
    ")\n",
    "\n",
    "result = p.run()\n",
    "result.wait_until_finish()"
   ]
  },
  {
   "cell_type": "code",
   "execution_count": 11,
   "metadata": {},
   "outputs": [
    {
     "data": {
      "text/plain": [
       "probably"
      ]
     },
     "execution_count": 11,
     "metadata": {},
     "output_type": "execute_result"
    }
   ],
   "source": [
    "documents[0]['tokens'][0].norm_"
   ]
  },
  {
   "cell_type": "code",
   "execution_count": null,
   "metadata": {},
   "outputs": [],
   "source": []
  }
 ],
 "metadata": {
  "kernelspec": {
   "display_name": "Python 3",
   "language": "python",
   "name": "python3"
  },
  "language_info": {
   "codemirror_mode": {
    "name": "ipython",
    "version": 3
   },
   "file_extension": ".py",
   "mimetype": "text/x-python",
   "name": "python",
   "nbconvert_exporter": "python",
   "pygments_lexer": "ipython3",
   "version": "3.5.3"
  }
 },
 "nbformat": 4,
 "nbformat_minor": 2
}
