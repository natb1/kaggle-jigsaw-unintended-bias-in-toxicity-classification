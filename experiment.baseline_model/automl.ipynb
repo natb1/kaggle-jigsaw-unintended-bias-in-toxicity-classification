{
 "cells": [
  {
   "cell_type": "code",
   "execution_count": 1,
   "metadata": {},
   "outputs": [],
   "source": [
    "%run ../jupyter/notebook_modules.ipynb"
   ]
  },
  {
   "cell_type": "code",
   "execution_count": 2,
   "metadata": {},
   "outputs": [
    {
     "name": "stdout",
     "output_type": "stream",
     "text": [
      "importing Jupyter notebook from bq.ipynb\n",
      "importing Jupyter notebook from competition.ipynb\n",
      "importing Jupyter notebook from train.ipynb\n",
      "Copying gs://natb1-kaggle-jigsaw-unintended-bias-in-toxicity-classification/train_target_on_identity_and_emotes.csv...\n",
      "- [1 files][ 77.3 MiB/ 77.3 MiB]                                                \n",
      "Operation completed over 1 objects/77.3 MiB.                                     \n"
     ]
    }
   ],
   "source": [
    "import bq\n",
    "import train"
   ]
  },
  {
   "cell_type": "code",
   "execution_count": 3,
   "metadata": {},
   "outputs": [],
   "source": [
    "TRAIN_AUTOML = \"train_automl\""
   ]
  },
  {
   "cell_type": "code",
   "execution_count": 22,
   "metadata": {},
   "outputs": [],
   "source": [
    "bq.query(r\"\"\"\n",
    "SELECT * FROM (\n",
    "    SELECT\n",
    "        REPLACE(comment_text, '\"', r'\\\"') AS comment_text_escaped, \n",
    "        \"toxic\" AS target_class\n",
    "    FROM (\n",
    "        SELECT * FROM {dataset_id}.train ORDER BY RAND()\n",
    "    )\n",
    "    WHERE target >= 0.5\n",
    "    LIMIT 50000\n",
    ") UNION ALL (\n",
    "    SELECT\n",
    "        REPLACE(comment_text, '\"', r'\\\"') AS comment_text_escaped, \n",
    "        \"benign\" AS target_class\n",
    "    FROM (\n",
    "        SELECT * FROM {dataset_id}.train ORDER BY RAND()\n",
    "    )\n",
    "    WHERE target < 0.5\n",
    "    LIMIT 50000\n",
    ")\n",
    "\"\"\", destination=TRAIN_AUTOML)"
   ]
  },
  {
   "cell_type": "code",
   "execution_count": 7,
   "metadata": {},
   "outputs": [
    {
     "data": {
      "text/html": [
       "<div>\n",
       "<style scoped>\n",
       "    .dataframe tbody tr th:only-of-type {\n",
       "        vertical-align: middle;\n",
       "    }\n",
       "\n",
       "    .dataframe tbody tr th {\n",
       "        vertical-align: top;\n",
       "    }\n",
       "\n",
       "    .dataframe thead th {\n",
       "        text-align: right;\n",
       "    }\n",
       "</style>\n",
       "<table border=\"1\" class=\"dataframe\">\n",
       "  <thead>\n",
       "    <tr style=\"text-align: right;\">\n",
       "      <th></th>\n",
       "      <th>f0_</th>\n",
       "    </tr>\n",
       "  </thead>\n",
       "  <tbody>\n",
       "    <tr>\n",
       "      <th>0</th>\n",
       "      <td>1804874</td>\n",
       "    </tr>\n",
       "  </tbody>\n",
       "</table>\n",
       "</div>"
      ],
      "text/plain": [
       "       f0_\n",
       "0  1804874"
      ]
     },
     "execution_count": 7,
     "metadata": {},
     "output_type": "execute_result"
    }
   ],
   "source": [
    "bq.query(\"\"\"\n",
    "SELECT count(*) FROM {dataset_id}.train\n",
    "\"\"\")"
   ]
  },
  {
   "cell_type": "code",
   "execution_count": 23,
   "metadata": {},
   "outputs": [
    {
     "data": {
      "text/html": [
       "<div>\n",
       "<style scoped>\n",
       "    .dataframe tbody tr th:only-of-type {\n",
       "        vertical-align: middle;\n",
       "    }\n",
       "\n",
       "    .dataframe tbody tr th {\n",
       "        vertical-align: top;\n",
       "    }\n",
       "\n",
       "    .dataframe thead th {\n",
       "        text-align: right;\n",
       "    }\n",
       "</style>\n",
       "<table border=\"1\" class=\"dataframe\">\n",
       "  <thead>\n",
       "    <tr style=\"text-align: right;\">\n",
       "      <th></th>\n",
       "      <th>f0_</th>\n",
       "    </tr>\n",
       "  </thead>\n",
       "  <tbody>\n",
       "    <tr>\n",
       "      <th>0</th>\n",
       "      <td>100000</td>\n",
       "    </tr>\n",
       "  </tbody>\n",
       "</table>\n",
       "</div>"
      ],
      "text/plain": [
       "      f0_\n",
       "0  100000"
      ]
     },
     "execution_count": 23,
     "metadata": {},
     "output_type": "execute_result"
    }
   ],
   "source": [
    "bq.query(\"\"\"\n",
    "SELECT count(*) FROM {{dataset_id}}.{TRAIN_AUTOML}\n",
    "\"\"\".format(TRAIN_AUTOML=TRAIN_AUTOML))"
   ]
  },
  {
   "cell_type": "code",
   "execution_count": 24,
   "metadata": {},
   "outputs": [
    {
     "name": "stdout",
     "output_type": "stream",
     "text": [
      "Exported jigsaw_unintended_bias_in_toxicity_classification.train_automl to gs://resonant-goods-241314-lcm/train_automl.csv\n"
     ]
    }
   ],
   "source": [
    "train.export_training_data(TRAIN_AUTOML)"
   ]
  },
  {
   "cell_type": "code",
   "execution_count": null,
   "metadata": {},
   "outputs": [],
   "source": []
  }
 ],
 "metadata": {
  "kernelspec": {
   "display_name": "Python 3",
   "language": "python",
   "name": "python3"
  },
  "language_info": {
   "codemirror_mode": {
    "name": "ipython",
    "version": 3
   },
   "file_extension": ".py",
   "mimetype": "text/x-python",
   "name": "python",
   "nbconvert_exporter": "python",
   "pygments_lexer": "ipython3",
   "version": "3.5.3"
  }
 },
 "nbformat": 4,
 "nbformat_minor": 2
}
