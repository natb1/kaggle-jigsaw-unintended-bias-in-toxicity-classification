{
 "cells": [
  {
   "cell_type": "code",
   "execution_count": 1,
   "metadata": {},
   "outputs": [],
   "source": [
    "%run ../jupyter/notebook_modules.ipynb"
   ]
  },
  {
   "cell_type": "code",
   "execution_count": 2,
   "metadata": {},
   "outputs": [
    {
     "name": "stdout",
     "output_type": "stream",
     "text": [
      "importing Jupyter notebook from competition.ipynb\n"
     ]
    }
   ],
   "source": [
    "import re\n",
    "\n",
    "from google.cloud import bigquery\n",
    "\n",
    "from competition import THIS_COMPETITION"
   ]
  },
  {
   "cell_type": "code",
   "execution_count": 7,
   "metadata": {},
   "outputs": [],
   "source": [
    "dataset_id = re.sub(\"[^a-zA-Z0-9_]+\", \"_\", THIS_COMPETITION)\n",
    "client = bigquery.Client(location=\"US\")"
   ]
  },
  {
   "cell_type": "code",
   "execution_count": 11,
   "metadata": {},
   "outputs": [],
   "source": [
    "def query(q, print_first=False, destination=None):\n",
    "    fq = q.format(dataset_id=dataset_id)\n",
    "    if print_first:\n",
    "        print(fq)\n",
    "    if destination is None:\n",
    "        df = client.query(fq).to_dataframe()\n",
    "        return df\n",
    "    else:\n",
    "        job_config = bigquery.QueryJobConfig(write_disposition=bigquery.job.WriteDisposition.WRITE_TRUNCATE)\n",
    "        table_ref = client.dataset(dataset_id).table(destination)\n",
    "        job_config.destination = table_ref\n",
    "        query_job = client.query(fq, job_config=job_config)\n",
    "        query_job.result()"
   ]
  }
 ],
 "metadata": {
  "kernelspec": {
   "display_name": "Python 3",
   "language": "python",
   "name": "python3"
  },
  "language_info": {
   "codemirror_mode": {
    "name": "ipython",
    "version": 3
   },
   "file_extension": ".py",
   "mimetype": "text/x-python",
   "name": "python",
   "nbconvert_exporter": "python",
   "pygments_lexer": "ipython3",
   "version": "3.5.3"
  }
 },
 "nbformat": 4,
 "nbformat_minor": 2
}
