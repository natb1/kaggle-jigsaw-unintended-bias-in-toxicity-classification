{
 "cells": [
  {
   "cell_type": "code",
   "execution_count": 13,
   "metadata": {},
   "outputs": [
    {
     "name": "stdout",
     "output_type": "stream",
     "text": [
      "Requirement already satisfied: kaggle in /home/jupyter/.local/lib/python3.5/site-packages\n",
      "Requirement already satisfied: certifi in /usr/local/lib/python3.5/dist-packages (from kaggle)\n",
      "Requirement already satisfied: python-slugify in /home/jupyter/.local/lib/python3.5/site-packages (from kaggle)\n",
      "Requirement already satisfied: requests in /usr/local/lib/python3.5/dist-packages (from kaggle)\n",
      "Requirement already satisfied: urllib3<1.25,>=1.21.1 in /usr/local/lib/python3.5/dist-packages (from kaggle)\n",
      "Requirement already satisfied: python-dateutil in /usr/local/lib/python3.5/dist-packages (from kaggle)\n",
      "Requirement already satisfied: six>=1.10 in /usr/local/lib/python3.5/dist-packages (from kaggle)\n",
      "Requirement already satisfied: tqdm in /usr/local/lib/python3.5/dist-packages (from kaggle)\n",
      "Requirement already satisfied: text-unidecode==1.2 in /home/jupyter/.local/lib/python3.5/site-packages (from python-slugify->kaggle)\n",
      "Requirement already satisfied: chardet<3.1.0,>=3.0.2 in /usr/local/lib/python3.5/dist-packages (from requests->kaggle)\n",
      "Requirement already satisfied: idna<2.9,>=2.5 in /usr/local/lib/python3.5/dist-packages (from requests->kaggle)\n",
      "Note: you may need to restart the kernel to use updated packages.\n"
     ]
    }
   ],
   "source": [
    "%run jupyter/notebook_modules.ipynb"
   ]
  },
  {
   "cell_type": "code",
   "execution_count": 9,
   "metadata": {},
   "outputs": [],
   "source": [
    "import re\n",
    "\n",
    "from google.cloud import bigquery\n",
    "\n",
    "from competition import THIS_COMPETITION"
   ]
  },
  {
   "cell_type": "code",
   "execution_count": 12,
   "metadata": {},
   "outputs": [],
   "source": [
    "dataset_id = re.sub(\"[^a-zA-Z0-9_]+\", \"_\", THIS_COMPETITION)\n",
    "client = bigquery.Client(location=\"US\")"
   ]
  },
  {
   "cell_type": "code",
   "execution_count": 2,
   "metadata": {},
   "outputs": [],
   "source": [
    "def query(q):\n",
    "    fq = q.format(dataset_id=dataset_id)\n",
    "    df = client.query(fq).to_dataframe()\n",
    "    return df"
   ]
  }
 ],
 "metadata": {
  "kernelspec": {
   "display_name": "Python 3",
   "language": "python",
   "name": "python3"
  },
  "language_info": {
   "codemirror_mode": {
    "name": "ipython",
    "version": 3
   },
   "file_extension": ".py",
   "mimetype": "text/x-python",
   "name": "python",
   "nbconvert_exporter": "python",
   "pygments_lexer": "ipython3",
   "version": "3.5.3"
  }
 },
 "nbformat": 4,
 "nbformat_minor": 2
}
